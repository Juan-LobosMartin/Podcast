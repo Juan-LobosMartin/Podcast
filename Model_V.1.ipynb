{
 "cells": [
  {
   "cell_type": "markdown",
   "id": "1ba038df-d849-4bee-b26d-af785b0e78fb",
   "metadata": {},
   "source": [
    "# Initial direct model (lgb)"
   ]
  },
  {
   "cell_type": "code",
   "execution_count": 8,
   "id": "a124ae34-a30b-44e4-a02c-79076f5df438",
   "metadata": {},
   "outputs": [],
   "source": [
    "# Import Libraries\n",
    "import pandas as pd\n",
    "import numpy as np\n",
    "from sklearn.model_selection import train_test_split \n",
    "from sklearn.linear_model import LinearRegression \n",
    "from sklearn.metrics import mean_squared_error, mean_absolute_error, root_mean_squared_error\n",
    "from sklearn import preprocessing \n",
    "import sklearn as sk\n",
    "import lightgbm as lgb"
   ]
  },
  {
   "cell_type": "code",
   "execution_count": 9,
   "id": "28ba1342-e814-446d-91d4-53053b38ecb9",
   "metadata": {},
   "outputs": [],
   "source": [
    "Podcast_Train_df = pd.read_csv('Data/Podcast_train_clean.V2.csv')\n",
    "Podcast_Test_df = pd.read_csv('Data/Podcast_test_clean.V2.csv')"
   ]
  },
  {
   "cell_type": "code",
   "execution_count": 10,
   "id": "f91c4457-ac08-4bf7-a795-023ce9489b76",
   "metadata": {},
   "outputs": [],
   "source": [
    "# encode categorical\n",
    "cat_cols =[\"Podcast_Name\", \"Genre\", \"Publication_Day\", \"Publication_Time\", \"Episode_Sentiment\"]\n",
    "for col in cat_cols:\n",
    "    Podcast_Train_df[col] = Podcast_Train_df[col].astype('category')"
   ]
  },
  {
   "cell_type": "code",
   "execution_count": 11,
   "id": "943df43a-1bdd-48f8-b13a-af4b33492408",
   "metadata": {},
   "outputs": [],
   "source": [
    "# encode categorical\n",
    "cat_cols =[\"Podcast_Name\", \"Genre\", \"Publication_Day\", \"Publication_Time\", \"Episode_Sentiment\"]\n",
    "for col in cat_cols:\n",
    "    Podcast_Test_df[col] = Podcast_Test_df[col].astype('category')"
   ]
  },
  {
   "cell_type": "code",
   "execution_count": 12,
   "id": "2feab628-7b6a-41eb-8175-b9afe33f1bef",
   "metadata": {},
   "outputs": [],
   "source": [
    "# Train/Val split\n",
    "X = Podcast_Train_df.drop(columns=[\"Listening_Time_minutes\", \"id\"])\n",
    "y = Podcast_Train_df[\"Listening_Time_minutes\"]\n",
    "X_train, X_val, y_train, y_val = train_test_split(X, y, test_size=0.1)"
   ]
  },
  {
   "cell_type": "code",
   "execution_count": 13,
   "id": "86c7635f-1f35-4b11-95c2-fbe493bc1a7f",
   "metadata": {},
   "outputs": [
    {
     "name": "stdout",
     "output_type": "stream",
     "text": [
      "<class 'pandas.core.frame.DataFrame'>\n",
      "RangeIndex: 750000 entries, 0 to 749999\n",
      "Data columns (total 12 columns):\n",
      " #   Column                       Non-Null Count   Dtype   \n",
      "---  ------                       --------------   -----   \n",
      " 0   id                           750000 non-null  int64   \n",
      " 1   Podcast_Name                 750000 non-null  category\n",
      " 2   Episode_Length_minutes       750000 non-null  float64 \n",
      " 3   Genre                        750000 non-null  category\n",
      " 4   Host_Popularity_percentage   750000 non-null  float64 \n",
      " 5   Publication_Day              750000 non-null  category\n",
      " 6   Publication_Time             750000 non-null  category\n",
      " 7   Guest_Popularity_percentage  750000 non-null  float64 \n",
      " 8   Number_of_Ads                750000 non-null  float64 \n",
      " 9   Episode_Sentiment            750000 non-null  category\n",
      " 10  Listening_Time_minutes       750000 non-null  float64 \n",
      " 11  Episode_Number               750000 non-null  float64 \n",
      "dtypes: category(5), float64(6), int64(1)\n",
      "memory usage: 43.6 MB\n"
     ]
    }
   ],
   "source": [
    "Podcast_Train_df.info()"
   ]
  },
  {
   "cell_type": "code",
   "execution_count": 14,
   "id": "e4ca6005-d765-4f80-91ee-a6c101b7c228",
   "metadata": {},
   "outputs": [],
   "source": [
    "# LightGBM Dataset\n",
    "train_data = lgb.Dataset(X_train, label=y_train, categorical_feature=cat_cols)\n",
    "val_data = lgb.Dataset(X_val, label=y_val, categorical_feature=cat_cols)"
   ]
  },
  {
   "cell_type": "code",
   "execution_count": 15,
   "id": "9cc41bd8-da94-4d56-91ed-6a6ea69017e1",
   "metadata": {},
   "outputs": [],
   "source": [
    "# LightGBM Parameters\n",
    "params = {\n",
    "    \"objective\": \"regression\",\n",
    "    \"metric\": \"rmse\",\n",
    "    \"boosting_type\": \"gbdt\",\n",
    "    \"learning_rate\": 0.02,\n",
    "    \"num_leaves\": 64,\n",
    "    \"max_depth\": 8,\n",
    "    \"feature_fraction\": 0.8,\n",
    "    \"bagging_fraction\": 0.8,\n",
    "    \"bagging_freq\": 5,\n",
    "    \"seed\": 42,\n",
    "    \"verbosity\": -1\n",
    "}"
   ]
  },
  {
   "cell_type": "code",
   "execution_count": 16,
   "id": "178ba420-de7c-48d8-8d2d-57e8f2899156",
   "metadata": {},
   "outputs": [
    {
     "name": "stdout",
     "output_type": "stream",
     "text": [
      "Training until validation scores don't improve for 100 rounds\n",
      "[150]\ttraining's rmse: 13.2833\tvalid_1's rmse: 13.2836\n",
      "[300]\ttraining's rmse: 13.0234\tvalid_1's rmse: 13.0672\n",
      "[450]\ttraining's rmse: 12.9617\tvalid_1's rmse: 13.0419\n",
      "[600]\ttraining's rmse: 12.9148\tvalid_1's rmse: 13.0294\n",
      "[750]\ttraining's rmse: 12.8736\tvalid_1's rmse: 13.0203\n",
      "[900]\ttraining's rmse: 12.8356\tvalid_1's rmse: 13.0119\n",
      "[1050]\ttraining's rmse: 12.7993\tvalid_1's rmse: 13.0057\n",
      "[1200]\ttraining's rmse: 12.7623\tvalid_1's rmse: 12.9977\n",
      "[1350]\ttraining's rmse: 12.7266\tvalid_1's rmse: 12.9912\n",
      "[1500]\ttraining's rmse: 12.6937\tvalid_1's rmse: 12.9848\n",
      "[1650]\ttraining's rmse: 12.6613\tvalid_1's rmse: 12.9794\n",
      "[1800]\ttraining's rmse: 12.6277\tvalid_1's rmse: 12.9733\n",
      "[1950]\ttraining's rmse: 12.5967\tvalid_1's rmse: 12.9683\n",
      "[2100]\ttraining's rmse: 12.565\tvalid_1's rmse: 12.9632\n",
      "[2250]\ttraining's rmse: 12.5345\tvalid_1's rmse: 12.9586\n",
      "[2400]\ttraining's rmse: 12.5048\tvalid_1's rmse: 12.9558\n",
      "[2550]\ttraining's rmse: 12.4757\tvalid_1's rmse: 12.9516\n",
      "[2700]\ttraining's rmse: 12.4476\tvalid_1's rmse: 12.9474\n",
      "[2850]\ttraining's rmse: 12.4177\tvalid_1's rmse: 12.9444\n",
      "[3000]\ttraining's rmse: 12.39\tvalid_1's rmse: 12.9408\n",
      "[3150]\ttraining's rmse: 12.362\tvalid_1's rmse: 12.9371\n",
      "[3300]\ttraining's rmse: 12.3344\tvalid_1's rmse: 12.9341\n",
      "[3450]\ttraining's rmse: 12.3072\tvalid_1's rmse: 12.9306\n",
      "[3600]\ttraining's rmse: 12.2793\tvalid_1's rmse: 12.9271\n",
      "[3750]\ttraining's rmse: 12.2516\tvalid_1's rmse: 12.9238\n",
      "[3900]\ttraining's rmse: 12.2259\tvalid_1's rmse: 12.921\n",
      "[4050]\ttraining's rmse: 12.2001\tvalid_1's rmse: 12.9187\n",
      "[4200]\ttraining's rmse: 12.1744\tvalid_1's rmse: 12.9164\n",
      "[4350]\ttraining's rmse: 12.1487\tvalid_1's rmse: 12.9134\n",
      "[4500]\ttraining's rmse: 12.1236\tvalid_1's rmse: 12.9114\n",
      "[4650]\ttraining's rmse: 12.0983\tvalid_1's rmse: 12.9093\n",
      "[4800]\ttraining's rmse: 12.0736\tvalid_1's rmse: 12.9071\n",
      "[4950]\ttraining's rmse: 12.0493\tvalid_1's rmse: 12.9056\n",
      "Did not meet early stopping. Best iteration is:\n",
      "[4998]\ttraining's rmse: 12.0415\tvalid_1's rmse: 12.9051\n",
      "✅ Submission file created!\n"
     ]
    }
   ],
   "source": [
    "# Callback for early stopping (new way in LightGBM v4)\n",
    "callbacks = [\n",
    "    lgb.early_stopping(stopping_rounds=100),\n",
    "    lgb.log_evaluation(period=150)]\n",
    "\n",
    "# Train Model\n",
    "model = lgb.train(\n",
    "    params,\n",
    "    train_data,\n",
    "    valid_sets=[train_data, val_data],\n",
    "    num_boost_round=5000,\n",
    "    callbacks=callbacks)\n",
    "# Predict\n",
    "preds = model.predict(Podcast_Test_df.drop(columns=[\"id\"]), num_iteration=model.best_iteration)\n",
    "\n",
    "# Clip predictions\n",
    "preds = np.clip(preds, 0, 200)\n",
    "\n",
    "# Prepare submission\n",
    "sub = pd.DataFrame({\n",
    "    \"id\": Podcast_Test_df[\"id\"],\n",
    "    \"Listening_Time_minutes\": preds\n",
    "})\n",
    "sub.to_csv(\"Data/submission.V2.lgb.csv\", index=False)\n",
    "print(\"✅ Submission file created!\")"
   ]
  },
  {
   "cell_type": "code",
   "execution_count": null,
   "id": "2140b3fe-9043-4d4e-9d90-22dfebee801e",
   "metadata": {},
   "outputs": [],
   "source": []
  }
 ],
 "metadata": {
  "kernelspec": {
   "display_name": "Python 3 (ipykernel)",
   "language": "python",
   "name": "python3"
  },
  "language_info": {
   "codemirror_mode": {
    "name": "ipython",
    "version": 3
   },
   "file_extension": ".py",
   "mimetype": "text/x-python",
   "name": "python",
   "nbconvert_exporter": "python",
   "pygments_lexer": "ipython3",
   "version": "3.13.1"
  }
 },
 "nbformat": 4,
 "nbformat_minor": 5
}
