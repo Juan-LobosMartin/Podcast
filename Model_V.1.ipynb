{
 "cells": [
  {
   "cell_type": "markdown",
   "id": "1ba038df-d849-4bee-b26d-af785b0e78fb",
   "metadata": {},
   "source": [
    "# Initial direct model (lgb)"
   ]
  },
  {
   "cell_type": "code",
   "execution_count": 2,
   "id": "28ba1342-e814-446d-91d4-53053b38ecb9",
   "metadata": {},
   "outputs": [],
   "source": [
    "Podcast_Train_df = pd.read_csv('Data/Podcast_train_clean.csv')\n",
    "Podcast_Test_df = pd.read_csv('Data/Podcast_test_clean.csv')"
   ]
  },
  {
   "cell_type": "code",
   "execution_count": 1,
   "id": "a124ae34-a30b-44e4-a02c-79076f5df438",
   "metadata": {},
   "outputs": [],
   "source": [
    "# Import Libraries\n",
    "import pandas as pd\n",
    "import numpy as np\n",
    "from sklearn.model_selection import train_test_split \n",
    "from sklearn.linear_model import LinearRegression \n",
    "from sklearn.metrics import mean_squared_error, mean_absolute_error, root_mean_squared_error\n",
    "from sklearn import preprocessing \n",
    "import sklearn as sk\n",
    "import lightgbm as lgb"
   ]
  },
  {
   "cell_type": "code",
   "execution_count": 4,
   "id": "f91c4457-ac08-4bf7-a795-023ce9489b76",
   "metadata": {},
   "outputs": [],
   "source": [
    "# encode categorical\n",
    "cat_cols =[\"Podcast_Name\", \"Genre\", \"Publication_Day\", \"Publication_Time\", \"Episode_Sentiment\"]\n",
    "for col in cat_cols:\n",
    "    Podcast_Train_df[col] = Podcast_Train_df[col].astype('category')"
   ]
  },
  {
   "cell_type": "code",
   "execution_count": 6,
   "id": "943df43a-1bdd-48f8-b13a-af4b33492408",
   "metadata": {},
   "outputs": [],
   "source": [
    "# encode categorical\n",
    "cat_cols =[\"Podcast_Name\", \"Genre\", \"Publication_Day\", \"Publication_Time\", \"Episode_Sentiment\"]\n",
    "for col in cat_cols:\n",
    "    Podcast_Test_df[col] = Podcast_Test_df[col].astype('category')"
   ]
  },
  {
   "cell_type": "code",
   "execution_count": 7,
   "id": "2feab628-7b6a-41eb-8175-b9afe33f1bef",
   "metadata": {},
   "outputs": [],
   "source": [
    "# Train/Val split\n",
    "X = Podcast_Train_df.drop(columns=[\"Listening_Time_minutes\", \"id\"])\n",
    "y = Podcast_Train_df[\"Listening_Time_minutes\"]\n",
    "X_train, X_val, y_train, y_val = train_test_split(X, y, test_size=0.1)"
   ]
  },
  {
   "cell_type": "code",
   "execution_count": 8,
   "id": "e4ca6005-d765-4f80-91ee-a6c101b7c228",
   "metadata": {},
   "outputs": [],
   "source": [
    "# LightGBM Dataset\n",
    "train_data = lgb.Dataset(X_train, label=y_train, categorical_feature=cat_cols)\n",
    "val_data = lgb.Dataset(X_val, label=y_val, categorical_feature=cat_cols)"
   ]
  },
  {
   "cell_type": "code",
   "execution_count": 9,
   "id": "9cc41bd8-da94-4d56-91ed-6a6ea69017e1",
   "metadata": {},
   "outputs": [],
   "source": [
    "# LightGBM Parameters\n",
    "params = {\n",
    "    \"objective\": \"regression\",\n",
    "    \"metric\": \"rmse\",\n",
    "    \"boosting_type\": \"gbdt\",\n",
    "    \"learning_rate\": 0.02,\n",
    "    \"num_leaves\": 64,\n",
    "    \"max_depth\": 8,\n",
    "    \"feature_fraction\": 0.8,\n",
    "    \"bagging_fraction\": 0.8,\n",
    "    \"bagging_freq\": 5,\n",
    "    \"seed\": 42,\n",
    "    \"verbosity\": -1\n",
    "}"
   ]
  },
  {
   "cell_type": "code",
   "execution_count": 10,
   "id": "178ba420-de7c-48d8-8d2d-57e8f2899156",
   "metadata": {},
   "outputs": [
    {
     "name": "stdout",
     "output_type": "stream",
     "text": [
      "Training until validation scores don't improve for 100 rounds\n",
      "[150]\ttraining's rmse: 13.2498\tvalid_1's rmse: 13.3455\n",
      "[300]\ttraining's rmse: 12.98\tvalid_1's rmse: 13.1151\n",
      "[450]\ttraining's rmse: 12.9172\tvalid_1's rmse: 13.0877\n",
      "[600]\ttraining's rmse: 12.8701\tvalid_1's rmse: 13.0756\n",
      "[750]\ttraining's rmse: 12.8268\tvalid_1's rmse: 13.0645\n",
      "[900]\ttraining's rmse: 12.7875\tvalid_1's rmse: 13.0532\n",
      "[1050]\ttraining's rmse: 12.751\tvalid_1's rmse: 13.0455\n",
      "[1200]\ttraining's rmse: 12.7146\tvalid_1's rmse: 13.0382\n",
      "[1350]\ttraining's rmse: 12.6787\tvalid_1's rmse: 13.0295\n",
      "[1500]\ttraining's rmse: 12.6446\tvalid_1's rmse: 13.0228\n",
      "[1650]\ttraining's rmse: 12.6119\tvalid_1's rmse: 13.0167\n",
      "[1800]\ttraining's rmse: 12.5787\tvalid_1's rmse: 13.011\n",
      "[1950]\ttraining's rmse: 12.5468\tvalid_1's rmse: 13.0056\n",
      "[2100]\ttraining's rmse: 12.5153\tvalid_1's rmse: 12.9994\n",
      "[2250]\ttraining's rmse: 12.4858\tvalid_1's rmse: 12.9943\n",
      "[2400]\ttraining's rmse: 12.4564\tvalid_1's rmse: 12.9896\n",
      "[2550]\ttraining's rmse: 12.4257\tvalid_1's rmse: 12.9843\n",
      "[2700]\ttraining's rmse: 12.3963\tvalid_1's rmse: 12.9795\n",
      "[2850]\ttraining's rmse: 12.3692\tvalid_1's rmse: 12.9757\n",
      "[3000]\ttraining's rmse: 12.3405\tvalid_1's rmse: 12.971\n",
      "[3150]\ttraining's rmse: 12.312\tvalid_1's rmse: 12.968\n",
      "[3300]\ttraining's rmse: 12.2848\tvalid_1's rmse: 12.965\n",
      "[3450]\ttraining's rmse: 12.2573\tvalid_1's rmse: 12.9621\n",
      "[3600]\ttraining's rmse: 12.2307\tvalid_1's rmse: 12.9596\n",
      "[3750]\ttraining's rmse: 12.2048\tvalid_1's rmse: 12.9566\n",
      "[3900]\ttraining's rmse: 12.1792\tvalid_1's rmse: 12.9528\n",
      "[4050]\ttraining's rmse: 12.1549\tvalid_1's rmse: 12.9504\n",
      "[4200]\ttraining's rmse: 12.1283\tvalid_1's rmse: 12.9469\n",
      "[4350]\ttraining's rmse: 12.1039\tvalid_1's rmse: 12.9458\n",
      "[4500]\ttraining's rmse: 12.0791\tvalid_1's rmse: 12.9426\n",
      "[4650]\ttraining's rmse: 12.0562\tvalid_1's rmse: 12.9404\n",
      "[4800]\ttraining's rmse: 12.0321\tvalid_1's rmse: 12.9381\n",
      "[4950]\ttraining's rmse: 12.0069\tvalid_1's rmse: 12.9357\n",
      "Did not meet early stopping. Best iteration is:\n",
      "[5000]\ttraining's rmse: 11.9985\tvalid_1's rmse: 12.9352\n",
      "✅ Submission file created!\n"
     ]
    }
   ],
   "source": [
    "# Callback for early stopping (new way in LightGBM v4)\n",
    "callbacks = [\n",
    "    lgb.early_stopping(stopping_rounds=100),\n",
    "    lgb.log_evaluation(period=150)]\n",
    "\n",
    "# Train Model\n",
    "model = lgb.train(\n",
    "    params,\n",
    "    train_data,\n",
    "    valid_sets=[train_data, val_data],\n",
    "    num_boost_round=5000,\n",
    "    callbacks=callbacks)\n",
    "# Predict\n",
    "preds = model.predict(Podcast_Test_df.drop(columns=[\"id\"]), num_iteration=model.best_iteration)\n",
    "\n",
    "# Clip predictions\n",
    "preds = np.clip(preds, 0, 200)\n",
    "\n",
    "# Prepare submission\n",
    "sub = pd.DataFrame({\n",
    "    \"id\": Podcast_Test_df[\"id\"],\n",
    "    \"Listening_Time_minutes\": preds\n",
    "})\n",
    "sub.to_csv(\"submission.csv\", index=False)\n",
    "print(\"✅ Submission file created!\")"
   ]
  },
  {
   "cell_type": "code",
   "execution_count": null,
   "id": "2140b3fe-9043-4d4e-9d90-22dfebee801e",
   "metadata": {},
   "outputs": [],
   "source": []
  }
 ],
 "metadata": {
  "kernelspec": {
   "display_name": "Python 3 (ipykernel)",
   "language": "python",
   "name": "python3"
  },
  "language_info": {
   "codemirror_mode": {
    "name": "ipython",
    "version": 3
   },
   "file_extension": ".py",
   "mimetype": "text/x-python",
   "name": "python",
   "nbconvert_exporter": "python",
   "pygments_lexer": "ipython3",
   "version": "3.13.1"
  }
 },
 "nbformat": 4,
 "nbformat_minor": 5
}
