{
 "cells": [
  {
   "cell_type": "markdown",
   "id": "1ba038df-d849-4bee-b26d-af785b0e78fb",
   "metadata": {},
   "source": [
    "# Initial direct model (lgb)"
   ]
  },
  {
   "cell_type": "code",
   "execution_count": 1,
   "id": "a124ae34-a30b-44e4-a02c-79076f5df438",
   "metadata": {},
   "outputs": [],
   "source": [
    "# Import Libraries\n",
    "import pandas as pd\n",
    "import numpy as np\n",
    "from sklearn.model_selection import train_test_split \n",
    "from sklearn.linear_model import LinearRegression \n",
    "from sklearn.metrics import mean_squared_error, mean_absolute_error, root_mean_squared_error\n",
    "from sklearn import preprocessing \n",
    "import sklearn as sk\n",
    "import lightgbm as lgb"
   ]
  },
  {
   "cell_type": "code",
   "execution_count": 2,
   "id": "fb8a1d07-054f-4cb5-83a0-b9819807d3bb",
   "metadata": {},
   "outputs": [],
   "source": [
    "# Load DataFrames\n",
    "Podcast_Train_df = pd.read_csv('Data/train.csv')\n",
    "Podcast_Test_df = pd.read_csv('Data/test.csv')"
   ]
  },
  {
   "cell_type": "code",
   "execution_count": 3,
   "id": "a15df937-3227-4a85-92db-9bdbeef26fc7",
   "metadata": {},
   "outputs": [],
   "source": [
    "# to make the preprocessing at the same time\n",
    "Podcast_Train_df['is_train'] = 1\n",
    "Podcast_Test_df['is_train'] = 0"
   ]
  },
  {
   "cell_type": "code",
   "execution_count": 4,
   "id": "3428c4d3-4137-4377-8f0f-8231b38e71e3",
   "metadata": {},
   "outputs": [
    {
     "name": "stdout",
     "output_type": "stream",
     "text": [
      "<class 'pandas.core.frame.DataFrame'>\n",
      "RangeIndex: 750000 entries, 0 to 749999\n",
      "Data columns (total 13 columns):\n",
      " #   Column                       Non-Null Count   Dtype  \n",
      "---  ------                       --------------   -----  \n",
      " 0   id                           750000 non-null  int64  \n",
      " 1   Podcast_Name                 750000 non-null  object \n",
      " 2   Episode_Title                750000 non-null  object \n",
      " 3   Episode_Length_minutes       662907 non-null  float64\n",
      " 4   Genre                        750000 non-null  object \n",
      " 5   Host_Popularity_percentage   750000 non-null  float64\n",
      " 6   Publication_Day              750000 non-null  object \n",
      " 7   Publication_Time             750000 non-null  object \n",
      " 8   Guest_Popularity_percentage  603970 non-null  float64\n",
      " 9   Number_of_Ads                749999 non-null  float64\n",
      " 10  Episode_Sentiment            750000 non-null  object \n",
      " 11  Listening_Time_minutes       750000 non-null  float64\n",
      " 12  is_train                     750000 non-null  int64  \n",
      "dtypes: float64(5), int64(2), object(6)\n",
      "memory usage: 74.4+ MB\n"
     ]
    }
   ],
   "source": [
    "Podcast_Train_df.info()"
   ]
  },
  {
   "cell_type": "code",
   "execution_count": 5,
   "id": "9d8345fd-9e8d-4efd-92fa-48954347367e",
   "metadata": {},
   "outputs": [
    {
     "name": "stdout",
     "output_type": "stream",
     "text": [
      "<class 'pandas.core.frame.DataFrame'>\n",
      "RangeIndex: 250000 entries, 0 to 249999\n",
      "Data columns (total 12 columns):\n",
      " #   Column                       Non-Null Count   Dtype  \n",
      "---  ------                       --------------   -----  \n",
      " 0   id                           250000 non-null  int64  \n",
      " 1   Podcast_Name                 250000 non-null  object \n",
      " 2   Episode_Title                250000 non-null  object \n",
      " 3   Episode_Length_minutes       221264 non-null  float64\n",
      " 4   Genre                        250000 non-null  object \n",
      " 5   Host_Popularity_percentage   250000 non-null  float64\n",
      " 6   Publication_Day              250000 non-null  object \n",
      " 7   Publication_Time             250000 non-null  object \n",
      " 8   Guest_Popularity_percentage  201168 non-null  float64\n",
      " 9   Number_of_Ads                250000 non-null  float64\n",
      " 10  Episode_Sentiment            250000 non-null  object \n",
      " 11  is_train                     250000 non-null  int64  \n",
      "dtypes: float64(4), int64(2), object(6)\n",
      "memory usage: 22.9+ MB\n"
     ]
    }
   ],
   "source": [
    "Podcast_Test_df.info()"
   ]
  },
  {
   "cell_type": "code",
   "execution_count": 6,
   "id": "cbc74f24-5720-43a7-a84d-b1510ebe887a",
   "metadata": {},
   "outputs": [],
   "source": [
    "Podcast_df = pd.concat([Podcast_Train_df,Podcast_Test_df])"
   ]
  },
  {
   "cell_type": "code",
   "execution_count": 7,
   "id": "f78a2114-d250-441a-85c7-24831a51d5fa",
   "metadata": {},
   "outputs": [
    {
     "data": {
      "text/html": [
       "<div>\n",
       "<style scoped>\n",
       "    .dataframe tbody tr th:only-of-type {\n",
       "        vertical-align: middle;\n",
       "    }\n",
       "\n",
       "    .dataframe tbody tr th {\n",
       "        vertical-align: top;\n",
       "    }\n",
       "\n",
       "    .dataframe thead th {\n",
       "        text-align: right;\n",
       "    }\n",
       "</style>\n",
       "<table border=\"1\" class=\"dataframe\">\n",
       "  <thead>\n",
       "    <tr style=\"text-align: right;\">\n",
       "      <th></th>\n",
       "      <th>id</th>\n",
       "      <th>Podcast_Name</th>\n",
       "      <th>Episode_Title</th>\n",
       "      <th>Episode_Length_minutes</th>\n",
       "      <th>Genre</th>\n",
       "      <th>Host_Popularity_percentage</th>\n",
       "      <th>Publication_Day</th>\n",
       "      <th>Publication_Time</th>\n",
       "      <th>Guest_Popularity_percentage</th>\n",
       "      <th>Number_of_Ads</th>\n",
       "      <th>Episode_Sentiment</th>\n",
       "      <th>Listening_Time_minutes</th>\n",
       "      <th>is_train</th>\n",
       "    </tr>\n",
       "  </thead>\n",
       "  <tbody>\n",
       "    <tr>\n",
       "      <th>0</th>\n",
       "      <td>0</td>\n",
       "      <td>Mystery Matters</td>\n",
       "      <td>Episode 98</td>\n",
       "      <td>NaN</td>\n",
       "      <td>True Crime</td>\n",
       "      <td>74.81</td>\n",
       "      <td>Thursday</td>\n",
       "      <td>Night</td>\n",
       "      <td>NaN</td>\n",
       "      <td>0.0</td>\n",
       "      <td>Positive</td>\n",
       "      <td>31.41998</td>\n",
       "      <td>1</td>\n",
       "    </tr>\n",
       "    <tr>\n",
       "      <th>1</th>\n",
       "      <td>1</td>\n",
       "      <td>Joke Junction</td>\n",
       "      <td>Episode 26</td>\n",
       "      <td>119.80</td>\n",
       "      <td>Comedy</td>\n",
       "      <td>66.95</td>\n",
       "      <td>Saturday</td>\n",
       "      <td>Afternoon</td>\n",
       "      <td>75.95</td>\n",
       "      <td>2.0</td>\n",
       "      <td>Negative</td>\n",
       "      <td>88.01241</td>\n",
       "      <td>1</td>\n",
       "    </tr>\n",
       "    <tr>\n",
       "      <th>2</th>\n",
       "      <td>2</td>\n",
       "      <td>Study Sessions</td>\n",
       "      <td>Episode 16</td>\n",
       "      <td>73.90</td>\n",
       "      <td>Education</td>\n",
       "      <td>69.97</td>\n",
       "      <td>Tuesday</td>\n",
       "      <td>Evening</td>\n",
       "      <td>8.97</td>\n",
       "      <td>0.0</td>\n",
       "      <td>Negative</td>\n",
       "      <td>44.92531</td>\n",
       "      <td>1</td>\n",
       "    </tr>\n",
       "    <tr>\n",
       "      <th>3</th>\n",
       "      <td>3</td>\n",
       "      <td>Digital Digest</td>\n",
       "      <td>Episode 45</td>\n",
       "      <td>67.17</td>\n",
       "      <td>Technology</td>\n",
       "      <td>57.22</td>\n",
       "      <td>Monday</td>\n",
       "      <td>Morning</td>\n",
       "      <td>78.70</td>\n",
       "      <td>2.0</td>\n",
       "      <td>Positive</td>\n",
       "      <td>46.27824</td>\n",
       "      <td>1</td>\n",
       "    </tr>\n",
       "    <tr>\n",
       "      <th>4</th>\n",
       "      <td>4</td>\n",
       "      <td>Mind &amp; Body</td>\n",
       "      <td>Episode 86</td>\n",
       "      <td>110.51</td>\n",
       "      <td>Health</td>\n",
       "      <td>80.07</td>\n",
       "      <td>Monday</td>\n",
       "      <td>Afternoon</td>\n",
       "      <td>58.68</td>\n",
       "      <td>3.0</td>\n",
       "      <td>Neutral</td>\n",
       "      <td>75.61031</td>\n",
       "      <td>1</td>\n",
       "    </tr>\n",
       "    <tr>\n",
       "      <th>...</th>\n",
       "      <td>...</td>\n",
       "      <td>...</td>\n",
       "      <td>...</td>\n",
       "      <td>...</td>\n",
       "      <td>...</td>\n",
       "      <td>...</td>\n",
       "      <td>...</td>\n",
       "      <td>...</td>\n",
       "      <td>...</td>\n",
       "      <td>...</td>\n",
       "      <td>...</td>\n",
       "      <td>...</td>\n",
       "      <td>...</td>\n",
       "    </tr>\n",
       "    <tr>\n",
       "      <th>249995</th>\n",
       "      <td>999995</td>\n",
       "      <td>Mind &amp; Body</td>\n",
       "      <td>Episode 100</td>\n",
       "      <td>21.05</td>\n",
       "      <td>Health</td>\n",
       "      <td>65.77</td>\n",
       "      <td>Saturday</td>\n",
       "      <td>Evening</td>\n",
       "      <td>96.40</td>\n",
       "      <td>3.0</td>\n",
       "      <td>Negative</td>\n",
       "      <td>NaN</td>\n",
       "      <td>0</td>\n",
       "    </tr>\n",
       "    <tr>\n",
       "      <th>249996</th>\n",
       "      <td>999996</td>\n",
       "      <td>Joke Junction</td>\n",
       "      <td>Episode 85</td>\n",
       "      <td>85.50</td>\n",
       "      <td>Comedy</td>\n",
       "      <td>41.47</td>\n",
       "      <td>Saturday</td>\n",
       "      <td>Night</td>\n",
       "      <td>30.52</td>\n",
       "      <td>2.0</td>\n",
       "      <td>Negative</td>\n",
       "      <td>NaN</td>\n",
       "      <td>0</td>\n",
       "    </tr>\n",
       "    <tr>\n",
       "      <th>249997</th>\n",
       "      <td>999997</td>\n",
       "      <td>Joke Junction</td>\n",
       "      <td>Episode 63</td>\n",
       "      <td>12.11</td>\n",
       "      <td>Comedy</td>\n",
       "      <td>25.92</td>\n",
       "      <td>Thursday</td>\n",
       "      <td>Evening</td>\n",
       "      <td>73.69</td>\n",
       "      <td>1.0</td>\n",
       "      <td>Neutral</td>\n",
       "      <td>NaN</td>\n",
       "      <td>0</td>\n",
       "    </tr>\n",
       "    <tr>\n",
       "      <th>249998</th>\n",
       "      <td>999998</td>\n",
       "      <td>Market Masters</td>\n",
       "      <td>Episode 46</td>\n",
       "      <td>113.46</td>\n",
       "      <td>Business</td>\n",
       "      <td>43.47</td>\n",
       "      <td>Friday</td>\n",
       "      <td>Night</td>\n",
       "      <td>93.59</td>\n",
       "      <td>3.0</td>\n",
       "      <td>Positive</td>\n",
       "      <td>NaN</td>\n",
       "      <td>0</td>\n",
       "    </tr>\n",
       "    <tr>\n",
       "      <th>249999</th>\n",
       "      <td>999999</td>\n",
       "      <td>Brain Boost</td>\n",
       "      <td>Episode 46</td>\n",
       "      <td>78.05</td>\n",
       "      <td>Education</td>\n",
       "      <td>41.72</td>\n",
       "      <td>Friday</td>\n",
       "      <td>Morning</td>\n",
       "      <td>50.77</td>\n",
       "      <td>0.0</td>\n",
       "      <td>Negative</td>\n",
       "      <td>NaN</td>\n",
       "      <td>0</td>\n",
       "    </tr>\n",
       "  </tbody>\n",
       "</table>\n",
       "<p>1000000 rows × 13 columns</p>\n",
       "</div>"
      ],
      "text/plain": [
       "            id     Podcast_Name Episode_Title  Episode_Length_minutes  \\\n",
       "0            0  Mystery Matters    Episode 98                     NaN   \n",
       "1            1    Joke Junction    Episode 26                  119.80   \n",
       "2            2   Study Sessions    Episode 16                   73.90   \n",
       "3            3   Digital Digest    Episode 45                   67.17   \n",
       "4            4      Mind & Body    Episode 86                  110.51   \n",
       "...        ...              ...           ...                     ...   \n",
       "249995  999995      Mind & Body   Episode 100                   21.05   \n",
       "249996  999996    Joke Junction    Episode 85                   85.50   \n",
       "249997  999997    Joke Junction    Episode 63                   12.11   \n",
       "249998  999998   Market Masters    Episode 46                  113.46   \n",
       "249999  999999      Brain Boost    Episode 46                   78.05   \n",
       "\n",
       "             Genre  Host_Popularity_percentage Publication_Day  \\\n",
       "0       True Crime                       74.81        Thursday   \n",
       "1           Comedy                       66.95        Saturday   \n",
       "2        Education                       69.97         Tuesday   \n",
       "3       Technology                       57.22          Monday   \n",
       "4           Health                       80.07          Monday   \n",
       "...            ...                         ...             ...   \n",
       "249995      Health                       65.77        Saturday   \n",
       "249996      Comedy                       41.47        Saturday   \n",
       "249997      Comedy                       25.92        Thursday   \n",
       "249998    Business                       43.47          Friday   \n",
       "249999   Education                       41.72          Friday   \n",
       "\n",
       "       Publication_Time  Guest_Popularity_percentage  Number_of_Ads  \\\n",
       "0                 Night                          NaN            0.0   \n",
       "1             Afternoon                        75.95            2.0   \n",
       "2               Evening                         8.97            0.0   \n",
       "3               Morning                        78.70            2.0   \n",
       "4             Afternoon                        58.68            3.0   \n",
       "...                 ...                          ...            ...   \n",
       "249995          Evening                        96.40            3.0   \n",
       "249996            Night                        30.52            2.0   \n",
       "249997          Evening                        73.69            1.0   \n",
       "249998            Night                        93.59            3.0   \n",
       "249999          Morning                        50.77            0.0   \n",
       "\n",
       "       Episode_Sentiment  Listening_Time_minutes  is_train  \n",
       "0               Positive                31.41998         1  \n",
       "1               Negative                88.01241         1  \n",
       "2               Negative                44.92531         1  \n",
       "3               Positive                46.27824         1  \n",
       "4                Neutral                75.61031         1  \n",
       "...                  ...                     ...       ...  \n",
       "249995          Negative                     NaN         0  \n",
       "249996          Negative                     NaN         0  \n",
       "249997           Neutral                     NaN         0  \n",
       "249998          Positive                     NaN         0  \n",
       "249999          Negative                     NaN         0  \n",
       "\n",
       "[1000000 rows x 13 columns]"
      ]
     },
     "execution_count": 7,
     "metadata": {},
     "output_type": "execute_result"
    }
   ],
   "source": [
    "Podcast_df"
   ]
  },
  {
   "cell_type": "markdown",
   "id": "de75bd79-1994-46c5-8f1e-98092bccc15f",
   "metadata": {},
   "source": [
    "### The features \n",
    "* 'Episode_Length_minutes' has NaN values (average this time)\n",
    "* 'Guest_Popularity_percentage' has NaN values \"no guest\" (=0 this time)\n",
    "* 'Number_of_Ads' has one NaN, but also error values. (goes only from 0 to 3 'int'. NaN by 0, missing values by 1)\n",
    "* lgb accepts categorical features. "
   ]
  },
  {
   "cell_type": "code",
   "execution_count": 9,
   "id": "062c1147-9874-4a18-a96a-7cc495088f75",
   "metadata": {},
   "outputs": [
    {
     "data": {
      "text/plain": [
       "Number_of_Ads\n",
       "0.00       290455\n",
       "1.00       285084\n",
       "3.00       213729\n",
       "2.00       210720\n",
       "103.25          2\n",
       "53.37           1\n",
       "NaN             1\n",
       "103.91          1\n",
       "103.00          1\n",
       "53.42           1\n",
       "103.75          1\n",
       "12.00           1\n",
       "103.88          1\n",
       "89.12           1\n",
       "2063.00         1\n",
       "Name: count, dtype: int64"
      ]
     },
     "execution_count": 9,
     "metadata": {},
     "output_type": "execute_result"
    }
   ],
   "source": [
    "Podcast_df[\"Number_of_Ads\"].value_counts(dropna=False)"
   ]
  },
  {
   "cell_type": "code",
   "execution_count": 10,
   "id": "24aaef32-78aa-4cf3-b69c-42035e2da910",
   "metadata": {},
   "outputs": [],
   "source": [
    "Podcast_df[\"Number_of_Ads\"] = Podcast_df[\"Number_of_Ads\"].fillna(0)"
   ]
  },
  {
   "cell_type": "code",
   "execution_count": 11,
   "id": "f9bcf638-04a3-4229-b22c-1272e2ae22b1",
   "metadata": {},
   "outputs": [
    {
     "data": {
      "text/plain": [
       "Number_of_Ads\n",
       "0.00       290456\n",
       "1.00       285084\n",
       "3.00       213729\n",
       "2.00       210720\n",
       "103.25          2\n",
       "53.37           1\n",
       "103.91          1\n",
       "103.00          1\n",
       "53.42           1\n",
       "103.75          1\n",
       "12.00           1\n",
       "103.88          1\n",
       "89.12           1\n",
       "2063.00         1\n",
       "Name: count, dtype: int64"
      ]
     },
     "execution_count": 11,
     "metadata": {},
     "output_type": "execute_result"
    }
   ],
   "source": [
    "Podcast_df[\"Number_of_Ads\"].value_counts(dropna=False)"
   ]
  },
  {
   "cell_type": "code",
   "execution_count": 16,
   "id": "b3570fee-fb71-482f-84b4-8ad7a57b9cfe",
   "metadata": {},
   "outputs": [],
   "source": [
    "# Define the list of correct values\n",
    "correct_values = [0.00, 1.00, 2.00, 3.00]\n",
    "\n",
    "# Create a boolean mask to identify erroneous values\n",
    "# Values that are NOT in the correct list \n",
    "erroneous_mask = ~Podcast_df[\"Number_of_Ads\"].isin(correct_values) \n",
    "Podcast_df.loc[erroneous_mask, \"Number_of_Ads\"] = 1.00\n"
   ]
  },
  {
   "cell_type": "code",
   "execution_count": 17,
   "id": "847a5c9a-bd59-4c2b-90ea-d122b3b7298d",
   "metadata": {},
   "outputs": [
    {
     "data": {
      "text/plain": [
       "Number_of_Ads\n",
       "0.0    290456\n",
       "1.0    285095\n",
       "3.0    213729\n",
       "2.0    210720\n",
       "Name: count, dtype: int64"
      ]
     },
     "execution_count": 17,
     "metadata": {},
     "output_type": "execute_result"
    }
   ],
   "source": [
    "Podcast_df[\"Number_of_Ads\"].value_counts(dropna=False)"
   ]
  },
  {
   "cell_type": "code",
   "execution_count": 18,
   "id": "3a4e0a2e-df29-4055-8125-81c29196eadd",
   "metadata": {},
   "outputs": [],
   "source": [
    "# Change episode number to a number\n",
    "Podcast_df[\"Episode_Number\"] = Podcast_df[\"Episode_Title\"].str.extract(r\"(\\d+)\").astype(float)\n",
    "Podcast_df['Guest_Popularity_percentage'] = Podcast_df['Guest_Popularity_percentage'].fillna(0) "
   ]
  },
  {
   "cell_type": "code",
   "execution_count": 20,
   "id": "c739adcc-09fe-4983-bebd-42d2c6826e80",
   "metadata": {},
   "outputs": [],
   "source": [
    "Podcast_df[\"Episode_Length_minutes\"] = Podcast_df[\"Episode_Length_minutes\"].fillna(Podcast_df[\"Episode_Length_minutes\"].median())"
   ]
  },
  {
   "cell_type": "code",
   "execution_count": 22,
   "id": "aeb7199f-9f74-46e8-a284-69934673940e",
   "metadata": {},
   "outputs": [
    {
     "name": "stdout",
     "output_type": "stream",
     "text": [
      "<class 'pandas.core.frame.DataFrame'>\n",
      "Index: 1000000 entries, 0 to 249999\n",
      "Data columns (total 14 columns):\n",
      " #   Column                       Non-Null Count    Dtype  \n",
      "---  ------                       --------------    -----  \n",
      " 0   id                           1000000 non-null  int64  \n",
      " 1   Podcast_Name                 1000000 non-null  object \n",
      " 2   Episode_Title                1000000 non-null  object \n",
      " 3   Episode_Length_minutes       1000000 non-null  float64\n",
      " 4   Genre                        1000000 non-null  object \n",
      " 5   Host_Popularity_percentage   1000000 non-null  float64\n",
      " 6   Publication_Day              1000000 non-null  object \n",
      " 7   Publication_Time             1000000 non-null  object \n",
      " 8   Guest_Popularity_percentage  1000000 non-null  float64\n",
      " 9   Number_of_Ads                1000000 non-null  float64\n",
      " 10  Episode_Sentiment            1000000 non-null  object \n",
      " 11  Listening_Time_minutes       750000 non-null   float64\n",
      " 12  is_train                     1000000 non-null  int64  \n",
      " 13  Episode_Number               1000000 non-null  float64\n",
      "dtypes: float64(6), int64(2), object(6)\n",
      "memory usage: 114.4+ MB\n"
     ]
    }
   ],
   "source": [
    "Podcast_df.info()"
   ]
  },
  {
   "cell_type": "code",
   "execution_count": 23,
   "id": "f91c4457-ac08-4bf7-a795-023ce9489b76",
   "metadata": {},
   "outputs": [],
   "source": [
    "# encode categorical\n",
    "cat_cols =[\"Podcast_Name\", \"Genre\", \"Publication_Day\", \"Publication_Time\", \"Episode_Sentiment\"]\n",
    "for col in cat_cols:\n",
    "    Podcast_df[col] = Podcast_df[col].astype('category')"
   ]
  },
  {
   "cell_type": "code",
   "execution_count": 24,
   "id": "2405c24f-7cd9-4705-84af-808f75882b45",
   "metadata": {},
   "outputs": [
    {
     "name": "stdout",
     "output_type": "stream",
     "text": [
      "<class 'pandas.core.frame.DataFrame'>\n",
      "Index: 1000000 entries, 0 to 249999\n",
      "Data columns (total 14 columns):\n",
      " #   Column                       Non-Null Count    Dtype   \n",
      "---  ------                       --------------    -----   \n",
      " 0   id                           1000000 non-null  int64   \n",
      " 1   Podcast_Name                 1000000 non-null  category\n",
      " 2   Episode_Title                1000000 non-null  object  \n",
      " 3   Episode_Length_minutes       1000000 non-null  float64 \n",
      " 4   Genre                        1000000 non-null  category\n",
      " 5   Host_Popularity_percentage   1000000 non-null  float64 \n",
      " 6   Publication_Day              1000000 non-null  category\n",
      " 7   Publication_Time             1000000 non-null  category\n",
      " 8   Guest_Popularity_percentage  1000000 non-null  float64 \n",
      " 9   Number_of_Ads                1000000 non-null  float64 \n",
      " 10  Episode_Sentiment            1000000 non-null  category\n",
      " 11  Listening_Time_minutes       750000 non-null   float64 \n",
      " 12  is_train                     1000000 non-null  int64   \n",
      " 13  Episode_Number               1000000 non-null  float64 \n",
      "dtypes: category(5), float64(6), int64(2), object(1)\n",
      "memory usage: 81.1+ MB\n"
     ]
    }
   ],
   "source": [
    "Podcast_df.info()"
   ]
  },
  {
   "cell_type": "code",
   "execution_count": 25,
   "id": "70225552-876d-458a-ada1-ed01a749cbd7",
   "metadata": {},
   "outputs": [],
   "source": [
    "# Drop unused\n",
    "Podcast_df.drop(columns=[\"Episode_Title\"], inplace=True)"
   ]
  },
  {
   "cell_type": "code",
   "execution_count": 26,
   "id": "f18c5d70-7455-46d0-9826-3cdf6c423b89",
   "metadata": {},
   "outputs": [],
   "source": [
    "# Split back Podcast_df\n",
    "Podcast_Train_df = Podcast_df[Podcast_df['is_train']== 1].drop(columns=[\"is_train\"])\n",
    "Podcast_Test_df = Podcast_df[Podcast_df['is_train']== 0].drop(columns=[\"is_train\", \"Listening_Time_minutes\"])"
   ]
  },
  {
   "cell_type": "code",
   "execution_count": 27,
   "id": "2feab628-7b6a-41eb-8175-b9afe33f1bef",
   "metadata": {},
   "outputs": [],
   "source": [
    "# Train/Val split\n",
    "X = Podcast_Train_df.drop(columns=[\"Listening_Time_minutes\", \"id\"])\n",
    "y = Podcast_Train_df[\"Listening_Time_minutes\"]\n",
    "X_train, X_val, y_train, y_val = train_test_split(X, y, test_size=0.1)"
   ]
  },
  {
   "cell_type": "code",
   "execution_count": 28,
   "id": "e4ca6005-d765-4f80-91ee-a6c101b7c228",
   "metadata": {},
   "outputs": [],
   "source": [
    "# LightGBM Dataset\n",
    "train_data = lgb.Dataset(X_train, label=y_train, categorical_feature=cat_cols)\n",
    "val_data = lgb.Dataset(X_val, label=y_val, categorical_feature=cat_cols)"
   ]
  },
  {
   "cell_type": "code",
   "execution_count": 29,
   "id": "9cc41bd8-da94-4d56-91ed-6a6ea69017e1",
   "metadata": {},
   "outputs": [],
   "source": [
    "# LightGBM Parameters\n",
    "params = {\n",
    "    \"objective\": \"regression\",\n",
    "    \"metric\": \"rmse\",\n",
    "    \"boosting_type\": \"gbdt\",\n",
    "    \"learning_rate\": 0.02,\n",
    "    \"num_leaves\": 64,\n",
    "    \"max_depth\": 8,\n",
    "    \"feature_fraction\": 0.8,\n",
    "    \"bagging_fraction\": 0.8,\n",
    "    \"bagging_freq\": 5,\n",
    "    \"seed\": 42,\n",
    "    \"verbosity\": -1\n",
    "}"
   ]
  },
  {
   "cell_type": "code",
   "execution_count": 33,
   "id": "178ba420-de7c-48d8-8d2d-57e8f2899156",
   "metadata": {},
   "outputs": [
    {
     "name": "stdout",
     "output_type": "stream",
     "text": [
      "Training until validation scores don't improve for 200 rounds\n",
      "[100]\ttraining's rmse: 13.8737\tvalid_1's rmse: 13.9242\n",
      "[200]\ttraining's rmse: 13.0774\tvalid_1's rmse: 13.1645\n",
      "[300]\ttraining's rmse: 12.9821\tvalid_1's rmse: 13.0998\n",
      "[400]\ttraining's rmse: 12.9363\tvalid_1's rmse: 13.0779\n",
      "[500]\ttraining's rmse: 12.9019\tvalid_1's rmse: 13.0658\n",
      "[600]\ttraining's rmse: 12.8715\tvalid_1's rmse: 13.0565\n",
      "[700]\ttraining's rmse: 12.8443\tvalid_1's rmse: 13.0486\n",
      "[800]\ttraining's rmse: 12.8162\tvalid_1's rmse: 13.0413\n",
      "[900]\ttraining's rmse: 12.7891\tvalid_1's rmse: 13.0337\n",
      "[1000]\ttraining's rmse: 12.7644\tvalid_1's rmse: 13.0272\n",
      "[1100]\ttraining's rmse: 12.7391\tvalid_1's rmse: 13.0213\n",
      "[1200]\ttraining's rmse: 12.7137\tvalid_1's rmse: 13.016\n",
      "[1300]\ttraining's rmse: 12.6893\tvalid_1's rmse: 13.0112\n",
      "[1400]\ttraining's rmse: 12.6664\tvalid_1's rmse: 13.0058\n",
      "[1500]\ttraining's rmse: 12.6434\tvalid_1's rmse: 13.0011\n",
      "[1600]\ttraining's rmse: 12.6224\tvalid_1's rmse: 12.9973\n",
      "[1700]\ttraining's rmse: 12.6008\tvalid_1's rmse: 12.9929\n",
      "[1800]\ttraining's rmse: 12.5789\tvalid_1's rmse: 12.9879\n",
      "[1900]\ttraining's rmse: 12.5584\tvalid_1's rmse: 12.9837\n",
      "[2000]\ttraining's rmse: 12.5367\tvalid_1's rmse: 12.9799\n",
      "[2100]\ttraining's rmse: 12.5169\tvalid_1's rmse: 12.977\n",
      "[2200]\ttraining's rmse: 12.496\tvalid_1's rmse: 12.9734\n",
      "[2300]\ttraining's rmse: 12.4762\tvalid_1's rmse: 12.9702\n",
      "[2400]\ttraining's rmse: 12.4558\tvalid_1's rmse: 12.9667\n",
      "[2500]\ttraining's rmse: 12.436\tvalid_1's rmse: 12.9641\n",
      "[2600]\ttraining's rmse: 12.4168\tvalid_1's rmse: 12.9618\n",
      "[2700]\ttraining's rmse: 12.3979\tvalid_1's rmse: 12.9591\n",
      "[2800]\ttraining's rmse: 12.3791\tvalid_1's rmse: 12.9555\n",
      "[2900]\ttraining's rmse: 12.36\tvalid_1's rmse: 12.9532\n",
      "[3000]\ttraining's rmse: 12.3425\tvalid_1's rmse: 12.9498\n",
      "[3100]\ttraining's rmse: 12.3232\tvalid_1's rmse: 12.9459\n",
      "[3200]\ttraining's rmse: 12.3049\tvalid_1's rmse: 12.9429\n",
      "[3300]\ttraining's rmse: 12.2882\tvalid_1's rmse: 12.9412\n",
      "[3400]\ttraining's rmse: 12.2709\tvalid_1's rmse: 12.9379\n",
      "[3500]\ttraining's rmse: 12.2525\tvalid_1's rmse: 12.9356\n",
      "[3600]\ttraining's rmse: 12.2352\tvalid_1's rmse: 12.9329\n",
      "[3700]\ttraining's rmse: 12.217\tvalid_1's rmse: 12.9296\n",
      "[3800]\ttraining's rmse: 12.1994\tvalid_1's rmse: 12.9274\n",
      "[3900]\ttraining's rmse: 12.1822\tvalid_1's rmse: 12.9257\n",
      "[4000]\ttraining's rmse: 12.1658\tvalid_1's rmse: 12.9238\n",
      "[4100]\ttraining's rmse: 12.1487\tvalid_1's rmse: 12.9207\n",
      "[4200]\ttraining's rmse: 12.1316\tvalid_1's rmse: 12.9185\n",
      "[4300]\ttraining's rmse: 12.1156\tvalid_1's rmse: 12.9172\n",
      "[4400]\ttraining's rmse: 12.0997\tvalid_1's rmse: 12.9153\n",
      "[4500]\ttraining's rmse: 12.0833\tvalid_1's rmse: 12.9132\n",
      "[4600]\ttraining's rmse: 12.0675\tvalid_1's rmse: 12.9112\n",
      "[4700]\ttraining's rmse: 12.051\tvalid_1's rmse: 12.9091\n",
      "[4800]\ttraining's rmse: 12.0342\tvalid_1's rmse: 12.9074\n",
      "[4900]\ttraining's rmse: 12.0181\tvalid_1's rmse: 12.906\n",
      "[5000]\ttraining's rmse: 12.0026\tvalid_1's rmse: 12.9049\n",
      "Did not meet early stopping. Best iteration is:\n",
      "[4992]\ttraining's rmse: 12.0037\tvalid_1's rmse: 12.9049\n",
      "✅ Submission file created!\n"
     ]
    }
   ],
   "source": [
    "# Callback for early stopping (new way in LightGBM v4)\n",
    "callbacks = [\n",
    "    lgb.early_stopping(stopping_rounds=200),\n",
    "    lgb.log_evaluation(period=100)]\n",
    "\n",
    "# Train Model\n",
    "model = lgb.train(\n",
    "    params,\n",
    "    train_data,\n",
    "    valid_sets=[train_data, val_data],\n",
    "    num_boost_round=5000,\n",
    "    callbacks=callbacks)\n",
    "# Predict\n",
    "preds = model.predict(Podcast_Test_df.drop(columns=[\"id\"]), num_iteration=model.best_iteration)\n",
    "\n",
    "# Clip predictions\n",
    "preds = np.clip(preds, 0, 200)\n",
    "\n",
    "# Prepare submission\n",
    "sub = pd.DataFrame({\n",
    "    \"id\": Podcast_Test_df[\"id\"],\n",
    "    \"Listening_Time_minutes\": preds\n",
    "})\n",
    "sub.to_csv(\"submission.csv\", index=False)\n",
    "print(\"✅ Submission file created!\")"
   ]
  },
  {
   "cell_type": "code",
   "execution_count": null,
   "id": "2140b3fe-9043-4d4e-9d90-22dfebee801e",
   "metadata": {},
   "outputs": [],
   "source": []
  }
 ],
 "metadata": {
  "kernelspec": {
   "display_name": "Python 3 (ipykernel)",
   "language": "python",
   "name": "python3"
  },
  "language_info": {
   "codemirror_mode": {
    "name": "ipython",
    "version": 3
   },
   "file_extension": ".py",
   "mimetype": "text/x-python",
   "name": "python",
   "nbconvert_exporter": "python",
   "pygments_lexer": "ipython3",
   "version": "3.13.1"
  }
 },
 "nbformat": 4,
 "nbformat_minor": 5
}
