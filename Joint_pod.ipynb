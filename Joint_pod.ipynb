{
 "cells": [
  {
   "cell_type": "code",
   "execution_count": 1,
   "id": "0b1c1490-7492-42dd-ad07-cdd155a0b2ed",
   "metadata": {},
   "outputs": [],
   "source": [
    "# Modules\n",
    "import pandas as pd\n",
    "import numpy as np\n",
    "import seaborn as sns\n",
    "import matplotlib.pyplot as plt\n",
    "%matplotlib inline"
   ]
  },
  {
   "cell_type": "code",
   "execution_count": 2,
   "id": "29770d77-220c-437f-8c1f-b54632229b57",
   "metadata": {},
   "outputs": [],
   "source": [
    "import glob"
   ]
  },
  {
   "cell_type": "code",
   "execution_count": 3,
   "id": "0ea92086-a455-457e-a545-090c67682c77",
   "metadata": {},
   "outputs": [],
   "source": [
    "file_path = 'Data/aux/'\n",
    "all_files = glob.glob(file_path + \"*.csv\")\n",
    "Podcast_df= pd.DataFrame(columns=['id', 'Podcast_Name', 'Episode_Length_minutes', 'Genre',\n",
    "       'Host_Popularity_percentage', 'Publication_Day', 'Publication_Time',\n",
    "       'Guest_Popularity_percentage', 'Number_of_Ads', 'Episode_Sentiment',\n",
    "       'Listening_Time_minutes', 'is_train', 'Episode_Number'])"
   ]
  },
  {
   "cell_type": "code",
   "execution_count": 4,
   "id": "89297128-3625-41bc-8465-f62f85e706a2",
   "metadata": {},
   "outputs": [
    {
     "name": "stderr",
     "output_type": "stream",
     "text": [
      "/var/folders/_2/nh5rkkms0rbdwypbjgwb50xh0000gn/T/ipykernel_59850/739875308.py:3: FutureWarning: The behavior of DataFrame concatenation with empty or all-NA entries is deprecated. In a future version, this will no longer exclude empty or all-NA columns when determining the result dtypes. To retain the old behavior, exclude the relevant entries before the concat operation.\n",
      "  Podcast_df = pd.concat([Podcast_df,df], axis = 0).reset_index(drop=True)\n"
     ]
    }
   ],
   "source": [
    "for filename in all_files:\n",
    "    df = pd.read_csv(filename)\n",
    "    Podcast_df = pd.concat([Podcast_df,df], axis = 0).reset_index(drop=True)\n"
   ]
  },
  {
   "cell_type": "code",
   "execution_count": 5,
   "id": "2aaac3e4-7baf-4d7d-b048-8b1233374042",
   "metadata": {},
   "outputs": [
    {
     "data": {
      "text/html": [
       "<div>\n",
       "<style scoped>\n",
       "    .dataframe tbody tr th:only-of-type {\n",
       "        vertical-align: middle;\n",
       "    }\n",
       "\n",
       "    .dataframe tbody tr th {\n",
       "        vertical-align: top;\n",
       "    }\n",
       "\n",
       "    .dataframe thead th {\n",
       "        text-align: right;\n",
       "    }\n",
       "</style>\n",
       "<table border=\"1\" class=\"dataframe\">\n",
       "  <thead>\n",
       "    <tr style=\"text-align: right;\">\n",
       "      <th></th>\n",
       "      <th>id</th>\n",
       "      <th>Podcast_Name</th>\n",
       "      <th>Episode_Length_minutes</th>\n",
       "      <th>Genre</th>\n",
       "      <th>Host_Popularity_percentage</th>\n",
       "      <th>Publication_Day</th>\n",
       "      <th>Publication_Time</th>\n",
       "      <th>Guest_Popularity_percentage</th>\n",
       "      <th>Number_of_Ads</th>\n",
       "      <th>Episode_Sentiment</th>\n",
       "      <th>Listening_Time_minutes</th>\n",
       "      <th>is_train</th>\n",
       "      <th>Episode_Number</th>\n",
       "    </tr>\n",
       "  </thead>\n",
       "  <tbody>\n",
       "    <tr>\n",
       "      <th>0</th>\n",
       "      <td>2256</td>\n",
       "      <td>Sound Waves</td>\n",
       "      <td>8.930000</td>\n",
       "      <td>Music</td>\n",
       "      <td>36.83</td>\n",
       "      <td>Sunday</td>\n",
       "      <td>Afternoon</td>\n",
       "      <td>74.04</td>\n",
       "      <td>2.0</td>\n",
       "      <td>Negative</td>\n",
       "      <td>5.64180</td>\n",
       "      <td>1</td>\n",
       "      <td>67.0</td>\n",
       "    </tr>\n",
       "    <tr>\n",
       "      <th>1</th>\n",
       "      <td>2622</td>\n",
       "      <td>Sound Waves</td>\n",
       "      <td>32.220000</td>\n",
       "      <td>Music</td>\n",
       "      <td>54.78</td>\n",
       "      <td>Sunday</td>\n",
       "      <td>Afternoon</td>\n",
       "      <td>0.00</td>\n",
       "      <td>2.0</td>\n",
       "      <td>Neutral</td>\n",
       "      <td>21.40798</td>\n",
       "      <td>1</td>\n",
       "      <td>32.0</td>\n",
       "    </tr>\n",
       "    <tr>\n",
       "      <th>2</th>\n",
       "      <td>4767</td>\n",
       "      <td>Sound Waves</td>\n",
       "      <td>54.440000</td>\n",
       "      <td>Music</td>\n",
       "      <td>24.00</td>\n",
       "      <td>Sunday</td>\n",
       "      <td>Afternoon</td>\n",
       "      <td>13.66</td>\n",
       "      <td>2.0</td>\n",
       "      <td>Neutral</td>\n",
       "      <td>23.04854</td>\n",
       "      <td>1</td>\n",
       "      <td>48.0</td>\n",
       "    </tr>\n",
       "    <tr>\n",
       "      <th>3</th>\n",
       "      <td>10010</td>\n",
       "      <td>Sound Waves</td>\n",
       "      <td>12.680000</td>\n",
       "      <td>Music</td>\n",
       "      <td>76.33</td>\n",
       "      <td>Sunday</td>\n",
       "      <td>Afternoon</td>\n",
       "      <td>68.61</td>\n",
       "      <td>1.0</td>\n",
       "      <td>Neutral</td>\n",
       "      <td>8.90176</td>\n",
       "      <td>1</td>\n",
       "      <td>53.0</td>\n",
       "    </tr>\n",
       "    <tr>\n",
       "      <th>4</th>\n",
       "      <td>10306</td>\n",
       "      <td>Sound Waves</td>\n",
       "      <td>63.916595</td>\n",
       "      <td>Music</td>\n",
       "      <td>46.56</td>\n",
       "      <td>Sunday</td>\n",
       "      <td>Afternoon</td>\n",
       "      <td>31.68</td>\n",
       "      <td>1.0</td>\n",
       "      <td>Positive</td>\n",
       "      <td>7.61000</td>\n",
       "      <td>1</td>\n",
       "      <td>59.0</td>\n",
       "    </tr>\n",
       "    <tr>\n",
       "      <th>...</th>\n",
       "      <td>...</td>\n",
       "      <td>...</td>\n",
       "      <td>...</td>\n",
       "      <td>...</td>\n",
       "      <td>...</td>\n",
       "      <td>...</td>\n",
       "      <td>...</td>\n",
       "      <td>...</td>\n",
       "      <td>...</td>\n",
       "      <td>...</td>\n",
       "      <td>...</td>\n",
       "      <td>...</td>\n",
       "      <td>...</td>\n",
       "    </tr>\n",
       "    <tr>\n",
       "      <th>999995</th>\n",
       "      <td>996045</td>\n",
       "      <td>Business Insights</td>\n",
       "      <td>116.740000</td>\n",
       "      <td>Business</td>\n",
       "      <td>45.81</td>\n",
       "      <td>Wednesday</td>\n",
       "      <td>Evening</td>\n",
       "      <td>2.11</td>\n",
       "      <td>1.0</td>\n",
       "      <td>Negative</td>\n",
       "      <td>NaN</td>\n",
       "      <td>0</td>\n",
       "      <td>81.0</td>\n",
       "    </tr>\n",
       "    <tr>\n",
       "      <th>999996</th>\n",
       "      <td>996364</td>\n",
       "      <td>Business Insights</td>\n",
       "      <td>45.630000</td>\n",
       "      <td>Business</td>\n",
       "      <td>36.27</td>\n",
       "      <td>Wednesday</td>\n",
       "      <td>Evening</td>\n",
       "      <td>92.10</td>\n",
       "      <td>0.0</td>\n",
       "      <td>Negative</td>\n",
       "      <td>NaN</td>\n",
       "      <td>0</td>\n",
       "      <td>12.0</td>\n",
       "    </tr>\n",
       "    <tr>\n",
       "      <th>999997</th>\n",
       "      <td>996674</td>\n",
       "      <td>Business Insights</td>\n",
       "      <td>55.120000</td>\n",
       "      <td>Business</td>\n",
       "      <td>25.33</td>\n",
       "      <td>Wednesday</td>\n",
       "      <td>Evening</td>\n",
       "      <td>14.38</td>\n",
       "      <td>3.0</td>\n",
       "      <td>Neutral</td>\n",
       "      <td>NaN</td>\n",
       "      <td>0</td>\n",
       "      <td>34.0</td>\n",
       "    </tr>\n",
       "    <tr>\n",
       "      <th>999998</th>\n",
       "      <td>997149</td>\n",
       "      <td>Business Insights</td>\n",
       "      <td>26.160000</td>\n",
       "      <td>Business</td>\n",
       "      <td>47.55</td>\n",
       "      <td>Wednesday</td>\n",
       "      <td>Evening</td>\n",
       "      <td>94.08</td>\n",
       "      <td>0.0</td>\n",
       "      <td>Positive</td>\n",
       "      <td>NaN</td>\n",
       "      <td>0</td>\n",
       "      <td>61.0</td>\n",
       "    </tr>\n",
       "    <tr>\n",
       "      <th>999999</th>\n",
       "      <td>998876</td>\n",
       "      <td>Business Insights</td>\n",
       "      <td>102.790000</td>\n",
       "      <td>Business</td>\n",
       "      <td>55.15</td>\n",
       "      <td>Wednesday</td>\n",
       "      <td>Evening</td>\n",
       "      <td>0.00</td>\n",
       "      <td>0.0</td>\n",
       "      <td>Neutral</td>\n",
       "      <td>NaN</td>\n",
       "      <td>0</td>\n",
       "      <td>69.0</td>\n",
       "    </tr>\n",
       "  </tbody>\n",
       "</table>\n",
       "<p>1000000 rows × 13 columns</p>\n",
       "</div>"
      ],
      "text/plain": [
       "            id       Podcast_Name  Episode_Length_minutes     Genre  \\\n",
       "0         2256        Sound Waves                8.930000     Music   \n",
       "1         2622        Sound Waves               32.220000     Music   \n",
       "2         4767        Sound Waves               54.440000     Music   \n",
       "3        10010        Sound Waves               12.680000     Music   \n",
       "4        10306        Sound Waves               63.916595     Music   \n",
       "...        ...                ...                     ...       ...   \n",
       "999995  996045  Business Insights              116.740000  Business   \n",
       "999996  996364  Business Insights               45.630000  Business   \n",
       "999997  996674  Business Insights               55.120000  Business   \n",
       "999998  997149  Business Insights               26.160000  Business   \n",
       "999999  998876  Business Insights              102.790000  Business   \n",
       "\n",
       "        Host_Popularity_percentage Publication_Day Publication_Time  \\\n",
       "0                            36.83          Sunday        Afternoon   \n",
       "1                            54.78          Sunday        Afternoon   \n",
       "2                            24.00          Sunday        Afternoon   \n",
       "3                            76.33          Sunday        Afternoon   \n",
       "4                            46.56          Sunday        Afternoon   \n",
       "...                            ...             ...              ...   \n",
       "999995                       45.81       Wednesday          Evening   \n",
       "999996                       36.27       Wednesday          Evening   \n",
       "999997                       25.33       Wednesday          Evening   \n",
       "999998                       47.55       Wednesday          Evening   \n",
       "999999                       55.15       Wednesday          Evening   \n",
       "\n",
       "        Guest_Popularity_percentage  Number_of_Ads Episode_Sentiment  \\\n",
       "0                             74.04            2.0          Negative   \n",
       "1                              0.00            2.0           Neutral   \n",
       "2                             13.66            2.0           Neutral   \n",
       "3                             68.61            1.0           Neutral   \n",
       "4                             31.68            1.0          Positive   \n",
       "...                             ...            ...               ...   \n",
       "999995                         2.11            1.0          Negative   \n",
       "999996                        92.10            0.0          Negative   \n",
       "999997                        14.38            3.0           Neutral   \n",
       "999998                        94.08            0.0          Positive   \n",
       "999999                         0.00            0.0           Neutral   \n",
       "\n",
       "        Listening_Time_minutes is_train  Episode_Number  \n",
       "0                      5.64180        1            67.0  \n",
       "1                     21.40798        1            32.0  \n",
       "2                     23.04854        1            48.0  \n",
       "3                      8.90176        1            53.0  \n",
       "4                      7.61000        1            59.0  \n",
       "...                        ...      ...             ...  \n",
       "999995                     NaN        0            81.0  \n",
       "999996                     NaN        0            12.0  \n",
       "999997                     NaN        0            34.0  \n",
       "999998                     NaN        0            61.0  \n",
       "999999                     NaN        0            69.0  \n",
       "\n",
       "[1000000 rows x 13 columns]"
      ]
     },
     "execution_count": 5,
     "metadata": {},
     "output_type": "execute_result"
    }
   ],
   "source": [
    "Podcast_df"
   ]
  },
  {
   "cell_type": "code",
   "execution_count": 6,
   "id": "7e47d4fd-bce7-4ec2-8513-c0469b06f333",
   "metadata": {},
   "outputs": [],
   "source": [
    "# encode categorical\n",
    "# cat_cols =[\"Podcast_Name\", \"Genre\", \"Publication_Day\", \"Publication_Time\", \"Episode_Sentiment\"]\n",
    "# for col in cat_cols:\n",
    "#    Podcast_df[col] = Podcast_df[col].astype('category')"
   ]
  },
  {
   "cell_type": "code",
   "execution_count": 7,
   "id": "6acc62aa-9c63-4b2c-86da-e62de0dc0448",
   "metadata": {},
   "outputs": [],
   "source": [
    "# Split back Podcast_df\n",
    "Podcast_Train_df = Podcast_df[Podcast_df['is_train']== 1].drop(columns=[\"is_train\"])\n",
    "Podcast_Test_df = Podcast_df[Podcast_df['is_train']== 0].drop(columns=[\"is_train\", \"Listening_Time_minutes\"])"
   ]
  },
  {
   "cell_type": "code",
   "execution_count": 8,
   "id": "12bb2b66-0666-4a8b-ba04-d453ce4c715f",
   "metadata": {},
   "outputs": [],
   "source": [
    "# temporal save\n",
    "Podcast_Train_df.to_csv('Data/Podcast_train_clean.V2.csv', index=False)\n",
    "Podcast_Test_df.to_csv('Data/Podcast_test_clean.V2.csv', index=False)"
   ]
  },
  {
   "cell_type": "markdown",
   "id": "4d4b89ef-6921-492d-94bb-f32771af7eec",
   "metadata": {},
   "source": [
    "## Change all columns to numerical\n",
    "* sentiment -1:negative, 0:neutral, 1:positive\n",
    "* day Sunday->0 to Saturday->6\n",
    "* hour day Night:0 to Evening:3\n",
    "* Podcast_Name and Genre Dummies "
   ]
  },
  {
   "cell_type": "code",
   "execution_count": 9,
   "id": "4c92e39d-f239-4be5-a92f-ae6416264eda",
   "metadata": {},
   "outputs": [
    {
     "data": {
      "text/plain": [
       "array(['Negative', 'Neutral', 'Positive'], dtype=object)"
      ]
     },
     "execution_count": 9,
     "metadata": {},
     "output_type": "execute_result"
    }
   ],
   "source": [
    "Podcast_df['Episode_Sentiment'].unique()"
   ]
  },
  {
   "cell_type": "code",
   "execution_count": 10,
   "id": "9c3a3f6d-295e-4e42-924f-5046caf50045",
   "metadata": {},
   "outputs": [
    {
     "name": "stderr",
     "output_type": "stream",
     "text": [
      "/var/folders/_2/nh5rkkms0rbdwypbjgwb50xh0000gn/T/ipykernel_59850/341689486.py:1: FutureWarning: Downcasting behavior in `replace` is deprecated and will be removed in a future version. To retain the old behavior, explicitly call `result.infer_objects(copy=False)`. To opt-in to the future behavior, set `pd.set_option('future.no_silent_downcasting', True)`\n",
      "  Podcast_df['Episode_Sentiment'] = Podcast_df['Episode_Sentiment'].replace(\n"
     ]
    }
   ],
   "source": [
    "Podcast_df['Episode_Sentiment'] = Podcast_df['Episode_Sentiment'].replace(\n",
    "    to_replace={'Negative': -1, 'Neutral': 0 ,'Positive': 1})"
   ]
  },
  {
   "cell_type": "code",
   "execution_count": null,
   "id": "58cbeacd-0158-408a-a6c5-dca499aaa284",
   "metadata": {},
   "outputs": [],
   "source": []
  },
  {
   "cell_type": "code",
   "execution_count": 12,
   "id": "7e4eb9a0-edef-4937-810d-0f558e094c17",
   "metadata": {},
   "outputs": [
    {
     "data": {
      "text/plain": [
       "array(['Sunday', 'Thursday', 'Tuesday', 'Wednesday', 'Saturday', 'Monday',\n",
       "       'Friday'], dtype=object)"
      ]
     },
     "execution_count": 12,
     "metadata": {},
     "output_type": "execute_result"
    }
   ],
   "source": [
    "Podcast_df['Publication_Day'].unique()"
   ]
  },
  {
   "cell_type": "code",
   "execution_count": 13,
   "id": "084b11de-9f44-4094-852c-ec620caa1430",
   "metadata": {},
   "outputs": [
    {
     "name": "stderr",
     "output_type": "stream",
     "text": [
      "/var/folders/_2/nh5rkkms0rbdwypbjgwb50xh0000gn/T/ipykernel_59850/1355090607.py:1: FutureWarning: Downcasting behavior in `replace` is deprecated and will be removed in a future version. To retain the old behavior, explicitly call `result.infer_objects(copy=False)`. To opt-in to the future behavior, set `pd.set_option('future.no_silent_downcasting', True)`\n",
      "  Podcast_df['Publication_Day'] = Podcast_df['Publication_Day'].replace(\n"
     ]
    }
   ],
   "source": [
    "Podcast_df['Publication_Day'] = Podcast_df['Publication_Day'].replace(\n",
    "    to_replace={'Sunday': 0 ,'Monday': 1 ,'Tuesday': 2 ,'Wednesday': 3,'Thursday': 4,'Friday': 5, 'Saturday': 6})"
   ]
  },
  {
   "cell_type": "code",
   "execution_count": 16,
   "id": "f91bfce5-9be7-451c-a5af-4ee635d85ebf",
   "metadata": {},
   "outputs": [
    {
     "name": "stderr",
     "output_type": "stream",
     "text": [
      "/var/folders/_2/nh5rkkms0rbdwypbjgwb50xh0000gn/T/ipykernel_59850/4075674410.py:1: FutureWarning: Downcasting behavior in `replace` is deprecated and will be removed in a future version. To retain the old behavior, explicitly call `result.infer_objects(copy=False)`. To opt-in to the future behavior, set `pd.set_option('future.no_silent_downcasting', True)`\n",
      "  Podcast_df['Publication_Time'] = Podcast_df['Publication_Time'].replace(\n"
     ]
    }
   ],
   "source": [
    "Podcast_df['Publication_Time'] = Podcast_df['Publication_Time'].replace(\n",
    "    to_replace={'Night': 0,'Morning': 1, 'Afternoon': 2, 'Evening': 3})"
   ]
  },
  {
   "cell_type": "code",
   "execution_count": 19,
   "id": "940fde6b-c96d-4fa9-882d-e7e8c685636a",
   "metadata": {},
   "outputs": [],
   "source": [
    "Podcast_Name = pd.get_dummies(data = Podcast_df['Podcast_Name'], \n",
    "                       columns = Podcast_df['Podcast_Name'].unique(),dtype=int)"
   ]
  },
  {
   "cell_type": "code",
   "execution_count": null,
   "id": "a6f2640e-9ee8-4230-ab72-839884526ac4",
   "metadata": {},
   "outputs": [],
   "source": []
  },
  {
   "cell_type": "code",
   "execution_count": 22,
   "id": "513db3b7-a3ae-469f-a3cf-38562dae1ee0",
   "metadata": {},
   "outputs": [],
   "source": [
    "Genere = pd.get_dummies(data = Podcast_df['Genre'], \n",
    "                       columns = Podcast_df['Genre'].unique(),dtype=int)"
   ]
  },
  {
   "cell_type": "code",
   "execution_count": 23,
   "id": "d3c1ef58-bd14-4231-839a-0c301a999cf2",
   "metadata": {},
   "outputs": [],
   "source": [
    "Podcast_dummies = pd.concat([Podcast_df, Podcast_Name, Genere], axis=1)"
   ]
  },
  {
   "cell_type": "code",
   "execution_count": 24,
   "id": "bbe2fdf2-1024-4e01-a215-58fe73dbc708",
   "metadata": {},
   "outputs": [],
   "source": [
    "Podcast_dummies = Podcast_dummies.drop(columns=['Podcast_Name','Genre'])"
   ]
  },
  {
   "cell_type": "code",
   "execution_count": 28,
   "id": "943fe549-70b9-4e63-ba7c-460c2bb930c2",
   "metadata": {},
   "outputs": [],
   "source": [
    "# Split back Podcast_dummies\n",
    "Podcast_dummies_train = Podcast_dummies[Podcast_dummies['is_train']== 1].drop(columns=[\"is_train\"])\n",
    "Podcast_dummies_test = Podcast_dummies[Podcast_dummies['is_train']== 0].drop(columns=[\"is_train\", \"Listening_Time_minutes\"])"
   ]
  },
  {
   "cell_type": "code",
   "execution_count": 29,
   "id": "29b268f2-30b0-4005-a4d4-6753ebff677b",
   "metadata": {},
   "outputs": [],
   "source": [
    "# final save\n",
    "Podcast_dummies_train.to_csv('Data/Podcast_train_dummies.V2.csv', index=False)\n",
    "Podcast_dummies_test.to_csv('Data/Podcast_test_dummies.V2.csv', index=False)"
   ]
  },
  {
   "cell_type": "code",
   "execution_count": null,
   "id": "f293baea-a115-4c66-b6e7-270298aa89e9",
   "metadata": {},
   "outputs": [],
   "source": []
  }
 ],
 "metadata": {
  "kernelspec": {
   "display_name": "Python 3 (ipykernel)",
   "language": "python",
   "name": "python3"
  },
  "language_info": {
   "codemirror_mode": {
    "name": "ipython",
    "version": 3
   },
   "file_extension": ".py",
   "mimetype": "text/x-python",
   "name": "python",
   "nbconvert_exporter": "python",
   "pygments_lexer": "ipython3",
   "version": "3.13.1"
  }
 },
 "nbformat": 4,
 "nbformat_minor": 5
}
